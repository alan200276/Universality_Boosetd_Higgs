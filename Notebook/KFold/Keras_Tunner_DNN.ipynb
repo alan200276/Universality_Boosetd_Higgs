{
 "cells": [
  {
   "cell_type": "code",
   "execution_count": 1,
   "id": "complete-owner",
   "metadata": {},
   "outputs": [
    {
     "name": "stderr",
     "output_type": "stream",
     "text": [
      "INFO:root:Tensorflow Version is 2.4.1\n",
      "INFO:root:Keras Version is 2.4.0\n",
      "INFO:root:[name: \"/device:CPU:0\"\n",
      "device_type: \"CPU\"\n",
      "memory_limit: 268435456\n",
      "locality {\n",
      "}\n",
      "incarnation: 14115177251302629231\n",
      ", name: \"/device:GPU:0\"\n",
      "device_type: \"GPU\"\n",
      "memory_limit: 4194304000\n",
      "locality {\n",
      "  bus_id: 2\n",
      "  numa_node: 1\n",
      "  links {\n",
      "  }\n",
      "}\n",
      "incarnation: 15681413099908745949\n",
      "physical_device_desc: \"device: 0, name: A100-SXM-80GB, pci bus id: 0000:48:00.0, compute capability: 8.0\"\n",
      "]\n"
     ]
    },
    {
     "name": "stdout",
     "output_type": "stream",
     "text": [
      "1 Physical GPUs, 1 Logical GPU\n",
      "Sat Dec 11 03:36:03 2021       \n",
      "+-----------------------------------------------------------------------------+\n",
      "| NVIDIA-SMI 460.73.01    Driver Version: 460.73.01    CUDA Version: 11.2     |\n",
      "|-------------------------------+----------------------+----------------------+\n",
      "| GPU  Name        Persistence-M| Bus-Id        Disp.A | Volatile Uncorr. ECC |\n",
      "| Fan  Temp  Perf  Pwr:Usage/Cap|         Memory-Usage | GPU-Util  Compute M. |\n",
      "|                               |                      |               MIG M. |\n",
      "|===============================+======================+======================|\n",
      "|   0  A100-SXM-80GB       On   | 00000000:48:00.0 Off |                    0 |\n",
      "| N/A   33C    P0    95W / 400W |  54723MiB / 81251MiB |     99%      Default |\n",
      "|                               |                      |             Disabled |\n",
      "+-------------------------------+----------------------+----------------------+\n",
      "                                                                               \n",
      "+-----------------------------------------------------------------------------+\n",
      "| Processes:                                                                  |\n",
      "|  GPU   GI   CI        PID   Type   Process name                  GPU Memory |\n",
      "|        ID   ID                                                   Usage      |\n",
      "|=============================================================================|\n",
      "+-----------------------------------------------------------------------------+\n"
     ]
    }
   ],
   "source": [
    "#!/usr/bin/env python\n",
    "# encoding: utf-8\n",
    "from __future__ import absolute_import, division, print_function, unicode_literals\n",
    "# Install TensorFlow\n",
    "import tensorflow as tf\n",
    "import tensorflow.keras as keras\n",
    "from tensorflow.keras.models import Sequential, load_model\n",
    "from tensorflow.keras.layers import Dense, Dropout, Flatten , Convolution2D, MaxPooling2D , Lambda, Conv2D, Activation,Concatenate\n",
    "from tensorflow.keras.layers import ActivityRegularization\n",
    "from tensorflow.keras.optimizers import Adam , SGD , Adagrad\n",
    "from tensorflow.keras.callbacks import ModelCheckpoint, LearningRateScheduler, EarlyStopping, CSVLogger, ReduceLROnPlateau\n",
    "from tensorflow.keras.utils import to_categorical\n",
    "from tensorflow.keras import regularizers , initializers\n",
    "from tensorflow.keras.models import Model\n",
    "from tensorflow.keras.preprocessing.image import ImageDataGenerator\n",
    "from tensorflow.keras.preprocessing.image import NumpyArrayIterator\n",
    "\n",
    "\n",
    "\n",
    "from sklearn.model_selection import train_test_split\n",
    "from sklearn.ensemble import GradientBoostingClassifier\n",
    "from sklearn.utils import shuffle\n",
    "from sklearn.metrics import confusion_matrix\n",
    "from sklearn.model_selection import KFold, StratifiedKFold\n",
    "# from xgboost import XGBClassifier\n",
    "import tensorflow.keras.backend as K\n",
    "from sklearn import metrics\n",
    "\n",
    "# !pip3 install keras-tuner --upgrade\n",
    "# !pip3 install autokeras\n",
    "import kerastuner as kt\n",
    "import autokeras as ak\n",
    "\n",
    "# Import local libraries\n",
    "import numpy as np\n",
    "import matplotlib.pyplot as plt\n",
    "import time\n",
    "import pandas as pd\n",
    "import importlib\n",
    "import os\n",
    "import sys\n",
    "import logging\n",
    "\n",
    "importlib.reload(logging)\n",
    "logging.basicConfig(level = logging.INFO)\n",
    "\n",
    "os.environ['NUMEXPR_MAX_THREADS'] = '64'\n",
    "os.environ['NUMEXPR_NUM_THREADS'] = '64'\n",
    "\n",
    "\n",
    "gpus = tf.config.experimental.list_physical_devices('GPU')\n",
    "# if gpus:\n",
    "#   # Restrict TensorFlow to only use the first GPU\n",
    "try:\n",
    "    tf.config.experimental.set_visible_devices(gpus[0], 'GPU')\n",
    "    tf.config.experimental.set_virtual_device_configuration(\n",
    "    gpus[0],\n",
    "    [tf.config.experimental.VirtualDeviceConfiguration(memory_limit=4000)])\n",
    "    logical_gpus = tf.config.experimental.list_logical_devices('GPU')\n",
    "    print(len(gpus), \"Physical GPUs,\", len(logical_gpus), \"Logical GPU\")\n",
    "except RuntimeError as e:\n",
    "# Visible devices must be set before GPUs have been initialized\n",
    "    logging.info(e)\n",
    "\n",
    "\n",
    "\n",
    "\n",
    "\n",
    "\n",
    "logging.info(\"Tensorflow Version is {}\".format(tf.__version__))\n",
    "logging.info(\"Keras Version is {}\".format(tf.keras.__version__))\n",
    "from tensorflow.python.client import device_lib\n",
    "logging.info(device_lib.list_local_devices())\n",
    "tf.device('/device:XLA_GPU:0')\n",
    "\n",
    "!nvidia-smi"
   ]
  },
  {
   "cell_type": "markdown",
   "id": "assumed-treasure",
   "metadata": {},
   "source": [
    "Ref: https://keras.io/keras_tuner/#quick-introduction  \n",
    "Ref: https://keras.io/guides/keras_tuner/getting_started/   \n",
    "Ref: https://keras.io/api/keras_tuner/tuners/base_tuner/"
   ]
  },
  {
   "cell_type": "code",
   "execution_count": 3,
   "id": "guilty-yahoo",
   "metadata": {},
   "outputs": [],
   "source": [
    "model = load_model(\"./DNN_Model_Hyper_Tuning/Universality/Tuning.h5\", compile=False)"
   ]
  },
  {
   "cell_type": "code",
   "execution_count": 4,
   "id": "stopped-composite",
   "metadata": {},
   "outputs": [
    {
     "name": "stdout",
     "output_type": "stream",
     "text": [
      "Model: \"Model_DNN_Pythia_Default\"\n",
      "_________________________________________________________________\n",
      "Layer (type)                 Output Shape              Param #   \n",
      "=================================================================\n",
      "dense (Dense)                (None, 608)               4256      \n",
      "_________________________________________________________________\n",
      "dense_1 (Dense)              (None, 224)               136416    \n",
      "_________________________________________________________________\n",
      "dense_2 (Dense)              (None, 928)               208800    \n",
      "_________________________________________________________________\n",
      "dense_3 (Dense)              (None, 288)               267552    \n",
      "_________________________________________________________________\n",
      "dense_4 (Dense)              (None, 1024)              295936    \n",
      "_________________________________________________________________\n",
      "dropout (Dropout)            (None, 1024)              0         \n",
      "_________________________________________________________________\n",
      "dense_5 (Dense)              (None, 1)                 1025      \n",
      "=================================================================\n",
      "Total params: 913,985\n",
      "Trainable params: 913,985\n",
      "Non-trainable params: 0\n",
      "_________________________________________________________________\n"
     ]
    }
   ],
   "source": [
    "model.summary()"
   ]
  },
  {
   "cell_type": "code",
   "execution_count": 2,
   "id": "searching-heritage",
   "metadata": {},
   "outputs": [
    {
     "name": "stderr",
     "output_type": "stream",
     "text": [
      "INFO:root:All Files are loaded!\n",
      "INFO:root:H jet : QCD jet = 1 : 1\n",
      "INFO:root:pythia_def_train, # of H jet: 153728\n",
      "INFO:root:pythia_def_train, # of QCD jet: 153728\n",
      "INFO:root:\n",
      "INFO:root:        pythia_def_train\n",
      "INFO:root:Train #     307456     \n",
      "INFO:root:total_list: Index(['GEN', 'SHO', 'PRO', 'MJ_0', 'PTJ_0', 'eta_0', 'phi_0', 't21_0',\n",
      "       'D21_0', 'D22_0', 'C21_0', 'C22_0', 'MJ', 'PTJ', 'eta', 'phi', 't21',\n",
      "       'D21', 'D22', 'C21', 'C22', 'weight', 'eventindex', 'WEIGHT', 'index',\n",
      "       'target'],\n",
      "      dtype='object')\n"
     ]
    },
    {
     "name": "stdout",
     "output_type": "stream",
     "text": [
      "CPU times: user 939 ms, sys: 162 ms, total: 1.1 s\n",
      "Wall time: 1.1 s\n"
     ]
    }
   ],
   "source": [
    "%%time\n",
    "\n",
    "HOMEPATH = \"/dicos_ui_home/alanchung/Universality_Boosetd_Higgs/\"\n",
    "# Data_High_Level_Features_path =  HOMEPATH + \"Data_High_Level_Features/\"\n",
    "# savepath = HOMEPATH + \"Data_ML/\"\n",
    "\n",
    "try:\n",
    "    \n",
    "    data_train = {\n",
    "#             \"herwig_ang_train\" : 0,\n",
    "            \"pythia_def_train\" : 0,\n",
    "#             \"pythia_vin_train\" : 0,\n",
    "#             \"pythia_dip_train\" : 0,\n",
    "#             \"sherpa_def_train\" : 0\n",
    "            }  \n",
    "    \n",
    "    for i, element in enumerate(data_train):\n",
    "#         data_train[element] = pd.read_csv(savepath + \"BDT/\" + str(element) + \".csv\")\n",
    "    \n",
    "        \"\"\"\n",
    "        Pt Range Study\n",
    "        \"\"\"\n",
    "        pt_min, pt_max = 300, 500\n",
    "        tmp = pd.read_csv(HOMEPATH + \"Notebook/KFold/\" + str(element) + \".csv\")\n",
    "        tmp = tmp[(tmp[\"PTJ_0\"] >= pt_min)  & (tmp[\"PTJ_0\"] < pt_max)]\n",
    "        tmp = tmp[(tmp[\"MJ_0\"] >= 110)  & (tmp[\"MJ_0\"] < 160)]\n",
    "        data_train[element] = shuffle(tmp)\n",
    "    \n",
    "    \n",
    "    \n",
    "    logging.info(\"All Files are loaded!\")\n",
    "\n",
    "    logging.info(\"H jet : QCD jet = 1 : 1\")\n",
    "    \n",
    "    for i, element in enumerate(data_train):\n",
    "        \n",
    "        logging.info(\"{}, # of H jet: {}\".format(element, len(data_train[element][ data_train[element][\"PRO\"] == \"H\"])))\n",
    "        logging.info(\"{}, # of QCD jet: {}\".format(element, len(data_train[element][ data_train[element][\"PRO\"] == \"QCD\"])))\n",
    "        \n",
    "    logging.info(\"\\r\")\n",
    "    \n",
    "    \n",
    "    train = [ len(data_train[element]) for j, element in enumerate(data_train)]\n",
    "    logging.info(\"{:^8}{:^15}\".format(\"\",str(element)))\n",
    "    logging.info(\"{:^8}{:^15}\".format(\"Train #\",train[0]))\n",
    "\n",
    "\n",
    "    for i, element in enumerate(data_train):\n",
    "        total_list = data_train[element].columns\n",
    "        break\n",
    "    \n",
    "    logging.info(\"total_list: {}\".format(total_list))\n",
    "\n",
    "except:\n",
    "    \n",
    "    logging.info(\"Please create training, test and validation datasets.\")\n",
    "    raise ValueError(\"Please create training, test and validation datasets.\")\n",
    "    \n",
    "    \n",
    "    "
   ]
  },
  {
   "cell_type": "code",
   "execution_count": 3,
   "id": "first-greene",
   "metadata": {},
   "outputs": [
    {
     "name": "stderr",
     "output_type": "stream",
     "text": [
      "INFO:root:training length: 245964\n",
      "INFO:root:validation length: 30746\n",
      "INFO:root:test length: 30746\n",
      "INFO:root:Total length: 307456\n",
      "INFO:root:Total length: 307456\n"
     ]
    },
    {
     "name": "stdout",
     "output_type": "stream",
     "text": [
      "CPU times: user 1.15 ms, sys: 1.6 ms, total: 2.75 ms\n",
      "Wall time: 2.03 ms\n"
     ]
    }
   ],
   "source": [
    "%%time\n",
    "\n",
    "features = [\"MJ_0\",\"t21_0\",\"D21_0\",\"D22_0\",\"C21_0\",\"C22_0\"]\n",
    "\n",
    "length = len(data_train[\"pythia_def_train\"])\n",
    "training_data = data_train[\"pythia_def_train\"][:int(length/10*8)]\n",
    "validation_data = data_train[\"pythia_def_train\"][int(length/10*8):int(length/10*9)]\n",
    "test_data = data_train[\"pythia_def_train\"][int(length/10*9):]\n",
    "\n",
    "logging.info(\"training length: {}\".format(len(training_data)))\n",
    "logging.info(\"validation length: {}\".format(len(validation_data)))\n",
    "logging.info(\"test length: {}\".format(len(test_data)))\n",
    "logging.info(\"Total length: {}\".format(len(training_data)+len(validation_data)+len(test_data)))\n",
    "logging.info(\"Total length: {}\".format(length))\n",
    "\n"
   ]
  },
  {
   "cell_type": "code",
   "execution_count": 26,
   "id": "entitled-progress",
   "metadata": {},
   "outputs": [],
   "source": [
    "def DNN_Model(hp):\n",
    "    \n",
    "    model_DNN = Sequential(name = \"Model_DNN_Pythia_Default\")\n",
    "    model_DNN.add(keras.Input(shape=(len(features),), name = 'input'))\n",
    "#     model_DNN.add(keras.layers.Dense(hp.Choice('units', [8, 16, 32]), activation='relu', name = 'dense_1'))\n",
    "    for i in range(hp.Int(\"num_layers\", 1, 6)):\n",
    "        model_DNN.add(\n",
    "            keras.layers.Dense(\n",
    "                # Tune number of units separately.\n",
    "                units=hp.Int(f\"units_{i}\", min_value=32, max_value=1024, step=32),\n",
    "#                 activation=hp.Choice(\"activation\", [\"relu\", \"tanh\"]),\n",
    "                activation='relu',\n",
    "            )\n",
    "        )\n",
    "        \n",
    "    if hp.Boolean(\"dropout\"):\n",
    "        model_DNN.add(keras.layers.Dropout(rate=0.01))\n",
    "        \n",
    "    model_DNN.add(Dense(1, activation='sigmoid'))\n",
    "    \n",
    "    learning_rate = hp.Float(\"lr\", min_value=1e-5, max_value=1e-2, sampling=\"log\")\n",
    "    # model_opt = keras.optimizers.Adadelta()\n",
    "    model_opt = keras.optimizers.Adam(learning_rate=learning_rate)\n",
    "    model_DNN.compile(loss=\"binary_crossentropy\",#keras.losses.binary_crossentropy\n",
    "                              optimizer=model_opt,\n",
    "                              metrics=['accuracy'])\n",
    "\n",
    "#     model_DNN.summary()\n",
    "\n",
    "    return model_DNN\n",
    "\n"
   ]
  },
  {
   "cell_type": "code",
   "execution_count": 27,
   "id": "automated-angle",
   "metadata": {},
   "outputs": [
    {
     "name": "stdout",
     "output_type": "stream",
     "text": [
      "Search space summary\n",
      "Default search space size: 4\n",
      "num_layers (Int)\n",
      "{'default': None, 'conditions': [], 'min_value': 1, 'max_value': 6, 'step': 1, 'sampling': None}\n",
      "units_0 (Int)\n",
      "{'default': None, 'conditions': [], 'min_value': 32, 'max_value': 1024, 'step': 32, 'sampling': None}\n",
      "dropout (Boolean)\n",
      "{'default': False, 'conditions': []}\n",
      "lr (Float)\n",
      "{'default': 1e-05, 'conditions': [], 'min_value': 1e-05, 'max_value': 0.01, 'step': None, 'sampling': 'log'}\n",
      "CPU times: user 147 ms, sys: 156 µs, total: 147 ms\n",
      "Wall time: 147 ms\n"
     ]
    }
   ],
   "source": [
    "%%time\n",
    "tuner = kt.RandomSearch(hypermodel=DNN_Model,\n",
    "                        objective=\"val_loss\",\n",
    "                        max_trials=3,\n",
    "                        executions_per_trial=2, #The number of models that should be built and fit for each trial\n",
    "                        overwrite=True,\n",
    "                        directory=\"DNN_Model_Hyper_Tunning\",\n",
    "                        project_name=\"Universality\"\n",
    "                        )\n",
    "tuner.search_space_summary()"
   ]
  },
  {
   "cell_type": "code",
   "execution_count": 28,
   "id": "optical-lindsay",
   "metadata": {},
   "outputs": [
    {
     "name": "stdout",
     "output_type": "stream",
     "text": [
      "Trial 3 Complete [00h 01m 49s]\n",
      "val_loss: 0.4983366131782532\n",
      "\n",
      "Best val_loss So Far: 0.4983366131782532\n",
      "Total elapsed time: 00h 06m 27s\n",
      "INFO:tensorflow:Oracle triggered exit\n"
     ]
    }
   ],
   "source": [
    "tuner.search(training_data[features], np.asarray(training_data[\"target\"]), \n",
    "             epochs=5, \n",
    "             validation_data=(validation_data[features], np.asarray(validation_data[\"target\"])))"
   ]
  },
  {
   "cell_type": "code",
   "execution_count": 29,
   "id": "focused-blank",
   "metadata": {},
   "outputs": [
    {
     "name": "stdout",
     "output_type": "stream",
     "text": [
      "Results summary\n",
      "Results in DNN_Model_Hyper_Tunning/Universality\n",
      "Showing 10 best trials\n",
      "Objective(name='val_loss', direction='min')\n",
      "Trial summary\n",
      "Hyperparameters:\n",
      "num_layers: 1\n",
      "units_0: 288\n",
      "dropout: False\n",
      "lr: 0.001856992770979149\n",
      "units_1: 160\n",
      "units_2: 96\n",
      "units_3: 672\n",
      "units_4: 864\n",
      "Score: 0.4983366131782532\n",
      "Trial summary\n",
      "Hyperparameters:\n",
      "num_layers: 4\n",
      "units_0: 768\n",
      "dropout: True\n",
      "lr: 0.00020945278125419103\n",
      "units_1: 32\n",
      "units_2: 32\n",
      "units_3: 32\n",
      "Score: 0.5037332475185394\n",
      "Trial summary\n",
      "Hyperparameters:\n",
      "num_layers: 5\n",
      "units_0: 896\n",
      "dropout: True\n",
      "lr: 0.003762672112568635\n",
      "units_1: 768\n",
      "units_2: 448\n",
      "units_3: 992\n",
      "units_4: 32\n",
      "Score: 0.5941602736711502\n"
     ]
    }
   ],
   "source": [
    "tuner.results_summary()"
   ]
  },
  {
   "cell_type": "code",
   "execution_count": 65,
   "id": "cleared-bench",
   "metadata": {},
   "outputs": [
    {
     "name": "stdout",
     "output_type": "stream",
     "text": [
      "WARNING:tensorflow:Unresolved object in checkpoint: (root).optimizer.iter\n",
      "WARNING:tensorflow:Unresolved object in checkpoint: (root).optimizer.beta_1\n",
      "WARNING:tensorflow:Unresolved object in checkpoint: (root).optimizer.beta_2\n",
      "WARNING:tensorflow:Unresolved object in checkpoint: (root).optimizer.decay\n",
      "WARNING:tensorflow:Unresolved object in checkpoint: (root).optimizer.learning_rate\n",
      "WARNING:tensorflow:A checkpoint was restored (e.g. tf.train.Checkpoint.restore or tf.keras.Model.load_weights) but not all checkpointed values were used. See above for specific issues. Use expect_partial() on the load status object, e.g. tf.train.Checkpoint.restore(...).expect_partial(), to silence these warnings, or use assert_consumed() to make the check explicit. See https://www.tensorflow.org/guide/checkpoint#loading_mechanics for details.\n",
      "WARNING:tensorflow:Unresolved object in checkpoint: (root).optimizer.iter\n",
      "WARNING:tensorflow:Unresolved object in checkpoint: (root).optimizer.beta_1\n",
      "WARNING:tensorflow:Unresolved object in checkpoint: (root).optimizer.beta_2\n",
      "WARNING:tensorflow:Unresolved object in checkpoint: (root).optimizer.decay\n",
      "WARNING:tensorflow:Unresolved object in checkpoint: (root).optimizer.learning_rate\n",
      "WARNING:tensorflow:A checkpoint was restored (e.g. tf.train.Checkpoint.restore or tf.keras.Model.load_weights) but not all checkpointed values were used. See above for specific issues. Use expect_partial() on the load status object, e.g. tf.train.Checkpoint.restore(...).expect_partial(), to silence these warnings, or use assert_consumed() to make the check explicit. See https://www.tensorflow.org/guide/checkpoint#loading_mechanics for details.\n",
      "Model: \"Model_DNN_Pythia_Default\"\n",
      "_________________________________________________________________\n",
      "Layer (type)                 Output Shape              Param #   \n",
      "=================================================================\n",
      "dense (Dense)                (None, 288)               2016      \n",
      "_________________________________________________________________\n",
      "dense_1 (Dense)              (None, 1)                 289       \n",
      "=================================================================\n",
      "Total params: 2,305\n",
      "Trainable params: 2,305\n",
      "Non-trainable params: 0\n",
      "_________________________________________________________________\n"
     ]
    }
   ],
   "source": [
    "best_model = tuner.get_best_models(num_models=3)[0]\n",
    "best_model.summary()"
   ]
  },
  {
   "cell_type": "code",
   "execution_count": 66,
   "id": "returning-damages",
   "metadata": {},
   "outputs": [],
   "source": [
    "prediction_test =  best_model.predict(np.asarray(test_data[features]))\n",
    "discriminator_test = prediction_test\n",
    "discriminator_test = discriminator_test/(max(discriminator_test))"
   ]
  },
  {
   "cell_type": "code",
   "execution_count": 63,
   "id": "human-capacity",
   "metadata": {},
   "outputs": [
    {
     "data": {
      "text/html": [
       "<div>\n",
       "<style scoped>\n",
       "    .dataframe tbody tr th:only-of-type {\n",
       "        vertical-align: middle;\n",
       "    }\n",
       "\n",
       "    .dataframe tbody tr th {\n",
       "        vertical-align: top;\n",
       "    }\n",
       "\n",
       "    .dataframe thead th {\n",
       "        text-align: right;\n",
       "    }\n",
       "</style>\n",
       "<table border=\"1\" class=\"dataframe\">\n",
       "  <thead>\n",
       "    <tr style=\"text-align: right;\">\n",
       "      <th></th>\n",
       "      <th>AUC</th>\n",
       "      <th>max_sig</th>\n",
       "      <th>r05</th>\n",
       "    </tr>\n",
       "  </thead>\n",
       "  <tbody>\n",
       "    <tr>\n",
       "      <th>0</th>\n",
       "      <td>0.831514</td>\n",
       "      <td>1.924599</td>\n",
       "      <td>12.696443</td>\n",
       "    </tr>\n",
       "  </tbody>\n",
       "</table>\n",
       "</div>"
      ],
      "text/plain": [
       "        AUC   max_sig        r05\n",
       "0  0.831514  1.924599  12.696443"
      ]
     },
     "execution_count": 63,
     "metadata": {},
     "output_type": "execute_result"
    }
   ],
   "source": [
    "Performance_Frame = {\n",
    "                \"AUC\" : [0],\n",
    "                \"max_sig\" : [0],\n",
    "                \"r05\" : [0],\n",
    "                }\n",
    "Performance_Frame[\"AUC\"][0] = metrics.roc_auc_score(test_data[\"target\"],discriminator_test)\n",
    "FalsePositiveFull, TruePositiveFull, _ = metrics.roc_curve(test_data[\"target\"],discriminator_test)\n",
    "tmp = np.where(FalsePositiveFull != 0)\n",
    "Performance_Frame[\"max_sig\"][0] = max(TruePositiveFull[tmp]/np.sqrt(FalsePositiveFull[tmp])) \n",
    "tmp = np.where(TruePositiveFull >= 0.5)\n",
    "Performance_Frame[\"r05\"][0]= 1./FalsePositiveFull[tmp[0][0]]\n",
    "\n",
    "\n",
    "dataframe = pd.DataFrame(Performance_Frame)\n",
    "dataframe"
   ]
  },
  {
   "cell_type": "code",
   "execution_count": 33,
   "id": "fuzzy-assets",
   "metadata": {},
   "outputs": [
    {
     "name": "stdout",
     "output_type": "stream",
     "text": [
      "Model: \"Model_DNN_Pythia_Default\"\n",
      "_________________________________________________________________\n",
      "Layer (type)                 Output Shape              Param #   \n",
      "=================================================================\n",
      "dense (Dense)                (None, 288)               2016      \n",
      "_________________________________________________________________\n",
      "dense_1 (Dense)              (None, 1)                 289       \n",
      "=================================================================\n",
      "Total params: 2,305\n",
      "Trainable params: 2,305\n",
      "Non-trainable params: 0\n",
      "_________________________________________________________________\n"
     ]
    }
   ],
   "source": [
    "best_model.save(\"./Tuning.h5\")\n",
    "model = load_model(\"./Tuning.h5\", compile =False)\n",
    "model.summary()"
   ]
  },
  {
   "cell_type": "code",
   "execution_count": 34,
   "id": "generic-payment",
   "metadata": {},
   "outputs": [
    {
     "data": {
      "text/html": [
       "<div>\n",
       "<style scoped>\n",
       "    .dataframe tbody tr th:only-of-type {\n",
       "        vertical-align: middle;\n",
       "    }\n",
       "\n",
       "    .dataframe tbody tr th {\n",
       "        vertical-align: top;\n",
       "    }\n",
       "\n",
       "    .dataframe thead th {\n",
       "        text-align: right;\n",
       "    }\n",
       "</style>\n",
       "<table border=\"1\" class=\"dataframe\">\n",
       "  <thead>\n",
       "    <tr style=\"text-align: right;\">\n",
       "      <th></th>\n",
       "      <th>AUC</th>\n",
       "      <th>max_sig</th>\n",
       "      <th>r05</th>\n",
       "    </tr>\n",
       "  </thead>\n",
       "  <tbody>\n",
       "    <tr>\n",
       "      <th>0</th>\n",
       "      <td>0.831514</td>\n",
       "      <td>1.924599</td>\n",
       "      <td>12.696443</td>\n",
       "    </tr>\n",
       "  </tbody>\n",
       "</table>\n",
       "</div>"
      ],
      "text/plain": [
       "        AUC   max_sig        r05\n",
       "0  0.831514  1.924599  12.696443"
      ]
     },
     "execution_count": 34,
     "metadata": {},
     "output_type": "execute_result"
    }
   ],
   "source": [
    "prediction_test =  model.predict(np.asarray(test_data[features]))\n",
    "discriminator_test = prediction_test\n",
    "discriminator_test = discriminator_test/(max(discriminator_test))\n",
    "Performance_Frame = {\n",
    "                \"AUC\" : [0],\n",
    "                \"max_sig\" : [0],\n",
    "                \"r05\" : [0],\n",
    "                }\n",
    "Performance_Frame[\"AUC\"][0] = metrics.roc_auc_score(test_data[\"target\"],discriminator_test)\n",
    "FalsePositiveFull, TruePositiveFull, _ = metrics.roc_curve(test_data[\"target\"],discriminator_test)\n",
    "tmp = np.where(FalsePositiveFull != 0)\n",
    "Performance_Frame[\"max_sig\"][0] = max(TruePositiveFull[tmp]/np.sqrt(FalsePositiveFull[tmp])) \n",
    "tmp = np.where(TruePositiveFull >= 0.5)\n",
    "Performance_Frame[\"r05\"][0]= 1./FalsePositiveFull[tmp[0][0]]\n",
    "\n",
    "\n",
    "dataframe = pd.DataFrame(Performance_Frame)\n",
    "dataframe"
   ]
  },
  {
   "cell_type": "code",
   "execution_count": null,
   "id": "knowing-berlin",
   "metadata": {},
   "outputs": [],
   "source": []
  }
 ],
 "metadata": {
  "kernelspec": {
   "display_name": "Python 3",
   "language": "python",
   "name": "python3"
  },
  "language_info": {
   "codemirror_mode": {
    "name": "ipython",
    "version": 3
   },
   "file_extension": ".py",
   "mimetype": "text/x-python",
   "name": "python",
   "nbconvert_exporter": "python",
   "pygments_lexer": "ipython3",
   "version": "3.6.8"
  }
 },
 "nbformat": 4,
 "nbformat_minor": 5
}
